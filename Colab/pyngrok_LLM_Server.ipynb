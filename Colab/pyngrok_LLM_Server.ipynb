{
  "nbformat": 4,
  "nbformat_minor": 0,
  "metadata": {
    "colab": {
      "provenance": [],
      "include_colab_link": true
    },
    "kernelspec": {
      "name": "python3",
      "display_name": "Python 3"
    }
  },
  "cells": [
    {
      "cell_type": "markdown",
      "metadata": {
        "id": "view-in-github",
        "colab_type": "text"
      },
      "source": [
        "<a href=\"https://colab.research.google.com/github/rkuo2000/GenAI/blob/main/Colab/pyngrok_LLM_Server.ipynb\" target=\"_parent\"><img src=\"https://colab.research.google.com/assets/colab-badge.svg\" alt=\"Open In Colab\"/></a>"
      ]
    },
    {
      "cell_type": "markdown",
      "source": [
        "# LLM HTTP Server\n",
        "## using pyNgrok for TCP tunneling"
      ],
      "metadata": {
        "id": "vDHLVChQFnM3"
      }
    },
    {
      "cell_type": "code",
      "metadata": {
        "id": "15FGYusaCg2s"
      },
      "source": [
        "!pip install flask\n",
        "!pip install pyngrok"
      ],
      "execution_count": null,
      "outputs": []
    },
    {
      "cell_type": "markdown",
      "source": [
        "## LLM model"
      ],
      "metadata": {
        "id": "SIfBBrPmGkcb"
      }
    },
    {
      "cell_type": "code",
      "source": [
        "import transformers\n",
        "from transformers import AutoModelForCausalLM , AutoTokenizer\n",
        "import torch\n",
        "torch.set_default_device(\"cuda\")\n",
        "\n",
        "#model_name = \"Q-bert/Mamba-130M\"\n",
        "#model_name = \"Q-bert/Mamba-370M\"\n",
        "#model_name = \"Q-bert/Mamba-790M\"\n",
        "#model_name = \"Q-bert/Mamba-1B\"\n",
        "#model_name = \"Q-bert/Mamba-3B\"\n",
        "#model_name = \"Q-bert/Mamba-3B-slimpj\"\n",
        "#model_name = \"ckip-joint/bloom-3b-zh\"\n",
        "#model_name = \"Qwen/Qwen1.5-7B-Chat\"\n",
        "#model_name = \"lmsys/vicuna-7b-v1.5-16k\"\n",
        "#model_name = \"yentinglin/Taiwan-LLM-7B-v2.0.1-chat\"\n",
        "#model_name = \"mistralai/Mistral-7B-Instruct-v0.2\"\n",
        "model_name = \"MediaTek-Research/Breeze-7B-Instruct-v0.1\"\n",
        "\n",
        "LLM = AutoModelForCausalLM.from_pretrained(model_name, trust_remote_code=True, torch_dtype=\"auto\", device_map=\"cuda\")\n",
        "tokenizer = AutoTokenizer.from_pretrained(model_name)"
      ],
      "metadata": {
        "id": "RSaQOUKpGZuZ"
      },
      "execution_count": null,
      "outputs": []
    },
    {
      "cell_type": "markdown",
      "source": [
        "## HTTP Server with Ngrok"
      ],
      "metadata": {
        "id": "iOczh9szG2Ik"
      }
    },
    {
      "cell_type": "code",
      "metadata": {
        "id": "vPc_bodwBQmM",
        "cellView": "code"
      },
      "source": [
        "import getpass\n",
        "import os\n",
        "import threading\n",
        "\n",
        "from flask import Flask, request, jsonify\n",
        "import json\n",
        "\n",
        "from pyngrok import ngrok, conf\n",
        "\n",
        "## set ngrok authtoken\n",
        "print(\"Enter your authtoken, which can be copied from https://dashboard.ngrok.com/get-started/your-authtoken\")\n",
        "conf.get_default().auth_token = getpass.getpass()\n",
        "\n",
        "app = Flask(__name__)\n",
        "\n",
        "# Open a ngrok tunnel to the HTTP server\n",
        "public_url = ngrok.connect(8000).public_url\n",
        "print(\" * ngrok tunnel \\\"{}\\\" -> \\\"http://127.0.0.1:{}/\\\"\".format(public_url, 8000))\n",
        "\n",
        "# Update any base URLs to use the public ngrok URL\n",
        "app.config[\"BASE_URL\"] = public_url\n",
        "\n",
        "# ... Update inbound traffic via APIs to use the public-facing ngrok URL\n",
        "\n",
        "\n",
        "# Define Flask routes\n",
        "@app.route(\"/\")\n",
        "def index():\n",
        "    return \"Hello from Colab!\"\n",
        "\n",
        "@app.route(\"/text\", methods=['POST'])\n",
        "def text():\n",
        "    if request.method == 'POST':\n",
        "        prompt = request.json['text']\n",
        "        print(prompt)\n",
        "\n",
        "        input_ids = tokenizer.encode(prompt, return_tensors=\"pt\").to(\"cuda\")\n",
        "        output = LLM.generate(input_ids, max_length=64, num_beams=5, no_repeat_ngram_size=2)\n",
        "        generated_text = tokenizer.decode(output[0], skip_special_tokens=True)\n",
        "        print(\"LMM = \"+mode_name+\"\\n\")\n",
        "        print(generated_text)\n",
        "        return jsonify(generated_text)\n",
        "\n",
        "# Start the Flask server in a new thread\n",
        "threading.Thread(target=app.run, kwargs={\"use_reloader\": False}).start()"
      ],
      "execution_count": null,
      "outputs": []
    }
  ]
}